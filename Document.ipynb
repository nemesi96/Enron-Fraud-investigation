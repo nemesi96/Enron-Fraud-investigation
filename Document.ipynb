{
 "cells": [
  {
   "cell_type": "markdown",
   "metadata": {},
   "source": [
    "#### 24th Sept. 2017\n",
    "Identifying Fraud from Euron Email\n",
    "==================\n",
    "by VISHNU PRASANTH REDDY\n",
    "--------------------------\n",
    "\n",
    "\n",
    "\n",
    "\n",
    "<strong>1.Summarize for us the goal of this project and how machine learning is useful in trying to accomplish it. As part of your answer, give some background on the dataset and how it can be used to answer the project question. Were there any outliers in the data when you got it, and how did you handle those?  [relevant rubric items: “data exploration”, “outlier investigation”]</strong>\n",
    "\n",
    "The goal  of this project is to idetify the employee who was found guilty in the enron scam by analysing various features of a certain employee in the given data sheet with the help of machine learning algorithims .Machine learning algorithms helped a lot in classifying the employees who comitted the fraud and who didn't by considering the feature <b>'poi' </b> as identifier .The whole data set is classified into two classes  <strong>'0'</strong>(employees who are innocent) and <strong>'1'</strong>(employees who are found guilty) .Totally there are <b>1358</b> missing data points in the given data set considering all the features which are represented as <b>'NaN'</b> and later  they were replaced by <b>0</b>.Out of 148 employees only <b>18</b> were found guilty. \n",
    "\n",
    "There are totally <b>146 keys</b> and <b>21 features</b> for a certain key in the given data set ,among the keys i found <b>'TOTAL'</b> and <b>'THE TRAVEL AGENCY IN THE PARK'</b> as an outliers because they don't represent an employee and since,i'm using metric based algorithms I felt the feature 'email_address' which has string as its data point ,wouldn't be much favourable for me to include in my features_list .so, i've excluded 1 feature among 21 features in the dataset.These features have many \n",
    "\n",
    ">Note : \n",
    "after excluding the outliers the total number of keys are <b>144</b> and features are <b>20</b>\n"
   ]
  },
  {
   "cell_type": "markdown",
   "metadata": {},
   "source": [
    "<strong>\n",
    "2.What features did you end up using in your POI identifier, and what selection process did you use to pick them? Did you have to do any scaling? Why or why not? As part of the assignment, you should attempt to engineer your own feature that does not come ready-made in the dataset -- explain what feature you tried to make, and the rationale behind it. (You do not necessarily have to use it in the final analysis, only engineer and test it.) In your feature selection step, if you used an algorithm like a decision tree, please also give the feature importances of the features that you use, and if you used an automated feature selection function like SelectKBest, please report the feature scores and reasons for your choice of parameter values.  [relevant rubric items: “create new features”, “intelligently select features”, “properly scale features”]</strong>\n",
    "\n",
    "firstly, I've created 4 new features namely 'total_networth'(total_payments+total_stock_value), 'bonus_salary_ratio'(bonus/salary),'fraction_from_poi'(from_poi_to_this_person/to_messages)and 'fraction_to_poi'(from_this_person_to_poi/from_messages).Now there are 24 features totally(including poi) among them i've selected some best features excluding 'POI' identifier according to the SelectKBest Score(automated). The score of the features are\n",
    "\n",
    "                  Feature                          score\n",
    "            1.'exercised_stock_options'   -    24.815079733218194\n",
    "            2.'total_stock_value'         -    24.182898678566879\n",
    "            3.'bonus'                     -    20.792252047181535               SELECTED\n",
    "            4.'salary'                    -    18.289684043404513\n",
    "            5.'total_net_worth'(new)      -    17.80879117424012                           \n",
    "            6.'deferred_income'           -    11.458476579280369\n",
    "            7.'bonus_salary_ratio'(new)   -    10.783584708160824\n",
    "_______________________________________________________________________________________\n",
    "            8.'long_term_incentive'       -    9.9221860131898225\n",
    "            9.'restricted_stock'          -    9.2128106219771002\n",
    "           10.'total_payments'            -    8.7727777300916756\n",
    "           11.'shared_receipt_with_poi'   -    8.589420731682381\n",
    "           12.'loan_advances'             -    7.1840556582887247\n",
    "           13.'expenses'                  -    6.0941733106389453\n",
    "           14.'from_poi_to_this_person'   -    5.2434497133749582\n",
    "           15.'fraction_from_poi'(new)    -    5.1239461527568926\n",
    "           16.'other'                     -    4.1874775069953749                NOT SELECTED\n",
    "           17.'fraction_to_poi'(new)      -    4.0946533095769526\n",
    "           18.'from_this_person_to_poi'   -    2.3826121082276739\n",
    "           19.'director_fees'             -    2.1263278020077054\n",
    "           20.'to_messages'               -    1.6463411294420076\n",
    "           21.'deferral_payments'         -    0.22461127473600989\n",
    "           22.'from_messages'             -    0.16970094762175533\n",
    "           23.'restricted_stock_deferred'-    0.065499652909942141\n",
    "As we can see that among 23 feautures <mark>exercised_stock_options</mark> has archieved the higest acore and <mark>restricted_stock_deferred</mark> archieved the least score .My feature selection is based on the score, as we can observe that there is a rapid decrease in feature scores between <mark>'total_net_worth'</mark> and <mark>'deferred_income'</mark> the diffrence of the scores between these features is about <b>6.4 </b> .This would allow us to find a good cut-off point that splits our feature set into the \"best\" features and the \"not so good\" features. But i added 2 more features in to the into the \"best fatures\" categery to check how my model work with features which has good cutt-off point. So I Ended up selecting <b>7 Features</b> as best features for my model \n",
    "\n",
    "Even though i've created 4 new features only two among them seemed more significant ie..<mark>'total_net_worth'</mark>which has higest scored among newly created features and falls in the best features region , <mark>'bonus_salary_ratio'</mark> as an additional feature in best features region(considering the cut-off). I haven't done feature scaling because my features are more precise and good enough to classify . \n",
    "\n",
    "There is a huge impact of the feature <mark>'total_net_worth'</mark> on this model .Because it is the sum of two other features total_payments and total_stock_value which can be considred as the amount of money/stocks made by a specific POI .I feel This feature adds more colour to my model  in finding the POI."
   ]
  },
  {
   "cell_type": "markdown",
   "metadata": {},
   "source": [
    "<b>3.What algorithm did you end up using? What other one(s) did you try? How did model performance differ between algorithms?  [relevant rubric item: “pick an algorithm”]</b>\n",
    "\n",
    "\n",
    "        Algorithm                 AccuracyScore                Precision               Recall\n",
    "        \n",
    "        GaussianNB                  0.85250                     0.47866                0.36450\n",
    "        Decission Tree              0.78300                     0.24256                0.24450\n",
    "        Kneighbors                  0.86850                     0.65028                0.17200\n",
    "        PCA with decisiontree       0.80300                     0.24564                0.18300\n",
    "        PCA with GaussianNb         0.85100                     0.47278                0.37350\n",
    " \n",
    "I've tried several algorithms like GaussianNB,Decission Tree, KNeighbours,PCA combined with KNeighbours and PCA combined with GaussianNB .Among them Kneighbors algorithm gave the highest accuracy score but the Precision and Recall aare less  than 0.3 .GaussianNb gave an accuracy of 0.85 ,0.47 precision and 0.36 Recall when I combined GaussianNB with PCA preprocessiong I got a similar accuracy and precision score but recall score grater than GaussianNb's recall .\n",
    "so,I Endeded up using <b>'PCA with GaussianNb'</b> which gave <b>AccuracyScore:0.85100 ,Precision :0.47278 and Recall :0.37350</b>"
   ]
  },
  {
   "cell_type": "markdown",
   "metadata": {},
   "source": [
    "<b>4.What does it mean to tune the parameters of an algorithm, and what can happen if you don’t do this well?  How did you tune the parameters of your particular algorithm? What parameters did you tune? (Some algorithms do not have parameters that you need to tune -- if this is the case for the one you picked, identify and briefly explain how you would have done it for the model that was not your final choice or a different model that does utilize parameter tuning, e.g. a decision tree classifier).  [relevant rubric items: “discuss parameter tuning”, “tune the algorithm”]</b>\n",
    "\n",
    "Tuning the parameter of an algorithm means that to customize the algorithm resulting best accuracy, If you dont tune the parameters and use default parameters you may end up getting the accuracy significantly not better than the best accuracy it can produce .I've used gridsearch to tune the parameters of PCA since i've combined it with gaussianNB which dosen't have parameters ,I endeded up tuning only 'n_components' of PCA which resulted in achieving similar accuracy, precision and better Recall than GaussianNb's(no combination) recall.\n",
    "\n",
    "I've also tuned PCA with decissiontree classifier to check how the results are diffrent from Decission tree classsifier. I've tuned the parameters 'n_components' for PCA and 'min_samples_split' for decission stee .This resulted in archieving more accuracy but less recall than the decession tree classifier(default). "
   ]
  },
  {
   "cell_type": "markdown",
   "metadata": {},
   "source": [
    "<b>5.What is validation, and what’s a classic mistake you can make if you do it wrong? How did you validate your analysis?  [relevant rubric items: “discuss validation”, “validation strategy”]</b>\n",
    "\n",
    "\n",
    "Validation is essentially a procedure of seperating a test data collection from the training data and applying the selected model on the test set to see more reasonable outcomes .A classic mistake is testing your algorithm on similar data that was already trained. Without isolating the preparation set from the testing set, it is hard to decide how well your algorithm sums up to new data.My last model was approved by seperating 30 for each penny of whole information for test set utilizing train_test_split and other was utilizing analyzer work in tester.py which utilizes StratifiedShuffleSplit Method. Stratified rearrange split cross-approval is a converge of StratifiedKFold and ShuffleSplit, which returns stratified randomized folds. Stratification is the process of rearranging the data as to ensure each fold is a good representative of the whole. For example in a binary classification problem where each class comprises 50% of the data, it is best to arrange the data such that in every fold, each class comprises around half the instances. \n",
    "\n",
    "I likewise utilized tester.py's Stratified Shuffle Split cross validation as a substitute strategy to gage my algorithms's execution. Since the Enron data  is so small, this sort of cross validation was valuable since it basically made different datasets out of a solitary one to get more exact outcomes."
   ]
  },
  {
   "cell_type": "markdown",
   "metadata": {},
   "source": [
    "<b>6.Give at least 2 evaluation metrics and your average performance for each of them.  Explain an interpretation of your metrics that says something human-understandable about your algorithm’s performance. [relevant rubric item: “usage of evaluation metrics”] </b>\n",
    "\n",
    "The 2 evaluation metrics are Precision and Recall .The average performance of final model which have an accuracy of 0.906 have same precission and recall ie. <b>0.6</b> , where the algorithm's precission and recall were 0.47 and 0.37 .\n",
    "\n",
    "precision is a measure of result relevancy, while recall is a measure of how many truly relevant results are returned.In my model fortnately both are same which means that my model is working perfect and so accurate\n",
    "\n",
    "In the context of our POI identifier,precision which tells us what proportion of employees who were predicted as POI  actually are POI.  and recall means which tells us what proportion of employees that actually are identified as POI were predicted by us as POI.\n",
    "\n",
    "Example :\n",
    "\n",
    "if prediction of POI is 1 and actually it's 0 (FALSE POSITIVE) ,prediction of POI is 1 and \n",
    "actually it's a (TRUE POSITIVE)\n",
    "\n",
    "<b>precision=(True Positive)/(True Positive+False Positive)</b>\n",
    "\n",
    "if prediction of POI is 0 and actually it's 1 (FALSE NEgative) ,prediction of POI is 1 and \n",
    "actually it's a (TRUE POSITIVE)\n",
    "\n",
    "<b>(True Positive)/(True Positive+False Negative)</b>\n",
    "\n"
   ]
  }
 ],
 "metadata": {
  "kernelspec": {
   "display_name": "Python 2",
   "language": "python",
   "name": "python2"
  },
  "language_info": {
   "codemirror_mode": {
    "name": "ipython",
    "version": 2
   },
   "file_extension": ".py",
   "mimetype": "text/x-python",
   "name": "python",
   "nbconvert_exporter": "python",
   "pygments_lexer": "ipython2",
   "version": "2.7.13"
  }
 },
 "nbformat": 4,
 "nbformat_minor": 2
}
